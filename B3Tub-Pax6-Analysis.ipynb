{
 "cells": [
  {
   "cell_type": "code",
   "execution_count": null,
   "metadata": {},
   "outputs": [],
   "source": [
    "from glob import glob\n",
    "import os\n",
    "from skimage import io\n",
    "import pandas as pd\n",
    "import numpy as np\n",
    "import napari\n",
    "from matplotlib import pyplot as plt\n",
    "import seaborn as sns\n",
    "from skimage.measure import find_contours\n",
    "\n",
    "from stardist.models import StarDist2D\n",
    "from csbdeep.utils import Path, normalize\n",
    "from skimage.segmentation import find_boundaries, expand_labels\n",
    "from skimage.measure import regionprops_table\n",
    "from skimage.morphology import label, disk\n",
    "from scipy.ndimage import binary_dilation, binary_erosion\n",
    "from sklearn.neighbors import NearestNeighbors\n",
    "import nd2\n",
    "import napari\n",
    "os.chdir('E:/Dropbox (VU Basic Sciences)')"
   ]
  },
  {
   "cell_type": "code",
   "execution_count": null,
   "metadata": {},
   "outputs": [],
   "source": [
    "model = StarDist2D(None, name='Mary_Nuc_2D_20X', basedir='Python Scripts/From ubuntu/models')\n",
    "axis_norm = (0,1)\n",
    "n_channel = 1"
   ]
  },
  {
   "cell_type": "code",
   "execution_count": null,
   "metadata": {},
   "outputs": [],
   "source": [
    "def parse_filename(image):\n",
    "    _, celltype, ND, chan1, chan2, _ , field, _= os.path.basename(image).split('.')\n",
    "    plate = ND[3:]\n",
    "    ND = ND[:3]\n",
    "\n",
    "    chan1 = chan1.split('-')[0]\n",
    "    chan2 = chan2.split('-')[0]\n",
    "    return celltype, ND, plate, chan1, chan2, field\n"
   ]
  },
  {
   "cell_type": "code",
   "execution_count": null,
   "metadata": {},
   "outputs": [],
   "source": [
    "def dilate_erode_mask(image):\n",
    "    # Subtract test_image mean from test_image\n",
    "    corrected_image = image - np.mean(image)\n",
    "    corrected_image = np.clip(corrected_image, 0, None)\n",
    "\n",
    "    percentile = np.percentile(corrected_image, 95)\n",
    "    test_mask = (corrected_image > percentile*0.55).astype(int)\n",
    "    pre_dilated_mask = binary_dilation(test_mask, structure=disk(1))\n",
    "    eroded_mask = binary_erosion(pre_dilated_mask, structure=disk(6))\n",
    "    dilated_mask = binary_dilation(eroded_mask, structure=disk(3))\n",
    "    test_image_dilated = np.where(dilated_mask, corrected_image, 0)\n",
    "    return test_mask, corrected_image, test_image_dilated, dilated_mask"
   ]
  },
  {
   "cell_type": "code",
   "execution_count": null,
   "metadata": {},
   "outputs": [],
   "source": [
    "l_images = glob('2023-12-22 CRs ND16 neuron markers/tuj1 pax6/*.nd2')\n"
   ]
  },
  {
   "cell_type": "code",
   "execution_count": null,
   "metadata": {},
   "outputs": [],
   "source": [
    "fig, axes = plt.subplots(len(l_images), 2, figsize=(20, 10 * len(l_images)))\n",
    "\n",
    "for i, image in enumerate(l_images):\n",
    "    test_array = nd2.imread(image)\n",
    "    if len(test_array.shape) == 3:\n",
    "        continue\n",
    "    max_array = np.max(test_array, axis = 0)\n",
    "    img = normalize(max_array[-1], 1,99.8, axis=axis_norm)\n",
    "    labels, details = model.predict_instances(img)\n",
    "    axes[i, 0].imshow(max_array[2], cmap = 'gray')\n",
    "    axes[i, 1].imshow(labels)\n",
    "    axes[i, 1].set_title(os.path.basename(image))\n",
    "\n",
    "plt.savefig('2024-03-08 Mary_Combined_Re-Thresholding/2d_crs_tuj1_segmentation.png')"
   ]
  },
  {
   "cell_type": "code",
   "execution_count": null,
   "metadata": {},
   "outputs": [],
   "source": [
    "viewer = napari.Viewer()\n",
    "test_array = nd2.imread(l_images[0])\n",
    "max_array = np.max(test_array, axis = 0)\n",
    "\n",
    "img = normalize(max_array[-1], 1,99.8, axis=axis_norm)\n",
    "labels, details = model.predict_instances(img)\n",
    "\n",
    "viewer.add_image(max_array[-1], name='DAPI')\n",
    "viewer.add_image(max_array[0], name='Pax6')\n",
    "viewer.add_image(max_array[1], name='Tuj1')\n",
    "viewer.add_labels(labels, name='Segmentation')\n",
    "\n",
    "\n"
   ]
  },
  {
   "cell_type": "code",
   "execution_count": null,
   "metadata": {},
   "outputs": [],
   "source": [
    "df_all = pd.DataFrame()\n",
    "for field in l_images:\n",
    "    image = nd2.imread(field)\n",
    "    dapi = np.max(image, axis = 0)[-1]\n",
    "    tuj1 = np.max(image, axis = 0)[1]\n",
    "    pax6 = np.max(image, axis = 0)[0]\n",
    "\n",
    "    # segment on dapi\n",
    "    img = normalize(dapi, 1,99.8, axis=axis_norm)\n",
    "    labels, details = model.predict_instances(img)\n",
    "    exp_lab = expand_labels(labels, distance = 10)\n",
    "\n",
    "    tuj1_props = regionprops_table(exp_lab, intensity_image = tuj1, properties = ['label', 'mean_intensity', 'centroid'])\n",
    "    df_tuj1 = pd.DataFrame(tuj1_props)\n",
    "    df_tuj1.rename(columns = {'mean_intensity': 'tuj1'}, inplace = True)\n",
    "\n",
    "    pax6_props = regionprops_table(labels, intensity_image = pax6, properties = ['label', 'mean_intensity'])\n",
    "    df_pax6 = pd.DataFrame(pax6_props)\n",
    "    df_pax6.rename(columns = {'mean_intensity': 'pax6'}, inplace = True)\n",
    "    df_combined = df_tuj1.merge(df_pax6, on = 'label')\n",
    "\n",
    "    test_mask, corrected_tuj1, tuj1_dilated, dilated_mask = dilate_erode_mask(tuj1)\n",
    "    labeled_mask = label(dilated_mask)\n",
    "    label_props = pd.DataFrame(regionprops_table(labeled_mask, intensity_image = tuj1, properties = ['label', 'centroid', 'area', 'mean_intensity']))\n",
    "\n",
    "\n",
    "    nbrs = NearestNeighbors(n_neighbors = 1, algorithm = 'ball_tree').fit(df_combined[['centroid-0', 'centroid-1']])\n",
    "\n",
    "    for point in label_props.iterrows():\n",
    "        if point[1]['area'] < 200:\n",
    "            continue\n",
    "        if point[1]['mean_intensity'] < 0:\n",
    "            continue\n",
    "        point_x = np.array([point[1]['centroid-0'], point[1]['centroid-1']])\n",
    "        distances, indices = nbrs.kneighbors([point_x])\n",
    "        df_combined.loc[indices[0][0], 'Tuj1+ Matched'] = True\n",
    "        df_combined.loc[indices[0][0], 'Tuj1+ Matched Area'] = point[1]['area']\n",
    "        df_combined.loc[indices[0][0], 'Tuj1+ Matched Intensity'] = point[1]['mean_intensity']\n",
    "        \n",
    "    df_combined['FileName'] = os.path.basename(field)\n",
    "    celltype, ND, plate, chan1, chan2, field = parse_filename(os.path.basename(field))\n",
    "    df_combined['CellType'] = celltype\n",
    "    df_combined['ND'] = ND\n",
    "    df_combined['Plate'] = plate\n",
    "    df_combined['field'] = field\n",
    "\n",
    "    df_all = df_all.append(df_combined, ignore_index = True)"
   ]
  },
  {
   "cell_type": "code",
   "execution_count": null,
   "metadata": {},
   "outputs": [],
   "source": [
    "fig, axes = plt.subplots(len(l_images), 4, figsize=(20, 100))\n",
    "\n",
    "for i, field in enumerate(l_images):\n",
    "    tuj1 = np.max(nd2.imread(field), axis=0)[1]\n",
    "    test_mask, corrected_tuj1, tuj1_dilated, dilated_mask = dilate_erode_mask(tuj1)\n",
    "    io.imshow(tuj1, ax = axes[i, 0],cmap = 'gray', vmax = 400)\n",
    "    axes[i, 0].set_title(os.path.basename(field))\n",
    "    #io.imshow(corrected_tuj1, ax = axes[i, 1], vmin = 0)\n",
    "    #io.imshow(dilated_mask, ax = axes[i, 2])\n",
    "    #io.imshow(tuj1, cmap = 'gray', ax = axes[i, 3], vmin = 0)\n",
    "    axes[i, 2].imshow(tuj1, cmap = plt.cm.gray, vmax = 400)\n",
    "    contours = find_contours(dilated_mask)\n",
    "    for contour in contours:\n",
    "        axes[i,2].plot(contour[:, 1], contour[:, 0], linewidth=1)\n",
    "    io.imshow(test_mask, ax = axes[i, 1])\n",
    "\n",
    "    dapi = np.max(nd2.imread(field), axis=0)[-1]\n",
    "\n",
    "    img = normalize(dapi, 1,99.8, axis=axis_norm)\n",
    "    labels, details = model.predict_instances(img)\n",
    "    exp_lab = expand_labels(labels, distance = 10)\n",
    "\n",
    "    tuj1_props = regionprops_table(exp_lab, intensity_image = tuj1, properties = ['label', 'centroid'])\n",
    "    df_tuj1 = pd.DataFrame(tuj1_props)\n",
    "\n",
    "    labeled_mask = label(dilated_mask)\n",
    "    label_props = pd.DataFrame(regionprops_table(labeled_mask, intensity_image = tuj1, properties = ['label', 'centroid', 'area', 'mean_intensity']))\n",
    "    \n",
    "    corrected_image = tuj1 - np.mean(tuj1)\n",
    "    corrected_image = np.clip(corrected_image, 0, None)\n",
    "    percentile = np.percentile(corrected_image, 97)\n",
    "    \n",
    "    \n",
    "    nbrs = NearestNeighbors(n_neighbors = 1, algorithm = 'ball_tree').fit(df_tuj1[['centroid-0', 'centroid-1']])\n",
    "    for point in label_props.iterrows():\n",
    "        if point[1]['area'] < 75:\n",
    "            continue\n",
    "        if point[1]['mean_intensity'] < percentile*0.15:\n",
    "            continue\n",
    "        point_x = np.array([point[1]['centroid-0'], point[1]['centroid-1']])\n",
    "        distances, indices = nbrs.kneighbors([point_x])\n",
    "        df_tuj1.loc[indices[0][0], 'Tuj1+ Matched'] = True\n",
    "        df_tuj1.loc[indices[0][0], 'Tuj1+ Matched Area'] = point[1]['area']\n",
    "        df_tuj1.loc[indices[0][0], 'Tuj1+ Matched Intensity'] = point[1]['mean_intensity']\n",
    "    \n",
    "    axes[i, 3].imshow(tuj1, cmap = plt.cm.gray, vmax = 400)  \n",
    "    if df_tuj1.shape[1] > 3:\n",
    "        df_filtered = df_tuj1[df_tuj1['Tuj1+ Matched'] == True]\n",
    "        axes[i, 3].scatter(df_filtered['centroid-1'], df_filtered['centroid-0'], c='r', s=1)\n",
    "\n",
    "\n",
    "plt.tight_layout()\n",
    "\n",
    "plt.savefig('2024-03-08 Mary_Combined_Re-Thresholding/2d_crs_tuj1_thresholding.png')"
   ]
  },
  {
   "cell_type": "code",
   "execution_count": null,
   "metadata": {},
   "outputs": [],
   "source": [
    "for index, x in enumerate(l_images):\n",
    "    print('index = ' , index, 'file = ', os.path.basename(x))\n",
    "\n",
    "test_index = 5\n",
    "df_display = df_all[df_all['FileName'] == os.path.basename(l_images[test_index])]\n",
    "coords = df_display[['centroid-0', 'centroid-1']].values\n",
    "\n",
    "tuj1_pos = df_display[df_display['Tuj1+ Matched'] == True]\n",
    "tuj1_coords = tuj1_pos[['centroid-0', 'centroid-1']]\n",
    "\n",
    "test_mask, corrected_tuj1, tuj1_dilated, dilated_mask = dilate_erode_mask(np.max(nd2.imread(l_images[test_index]), axis = 0)[2])\n",
    "labeled_mask = label(dilated_mask)"
   ]
  },
  {
   "cell_type": "code",
   "execution_count": null,
   "metadata": {},
   "outputs": [],
   "source": [
    "viewer = napari.Viewer()\n",
    "viewer.add_image(np.max(nd2.imread(l_images[test_index]), axis = 0)[-1], name='DAPI')\n",
    "viewer.add_image(np.max(nd2.imread(l_images[test_index]), axis = 0)[0], name='Pax6')\n",
    "viewer.add_image(np.max(nd2.imread(l_images[test_index]), axis = 0)[1], name='Tuj1')\n",
    "\n",
    "viewer.add_points(coords, properties = df_display[['tuj1', 'pax6']].round(2), size = 5, face_color = 'red')\n",
    "viewer.add_points(tuj1_coords, properties = tuj1_pos[['tuj1', 'Tuj1+ Matched Area', 'Tuj1+ Matched Intensity']].round(2), size = 5, face_color = 'blue')"
   ]
  },
  {
   "cell_type": "code",
   "execution_count": null,
   "metadata": {},
   "outputs": [],
   "source": [
    "\n",
    "df_all['Pax6+'] = df_all['pax6'] > 120\n",
    "df_all['double_pos'] = (df_all['Tuj1+ Matched'] == True) & (df_all['Pax6+'] == True)\n",
    "\n",
    "grouped_df = df_all.groupby(['FileName'])\n",
    "result_export = []\n",
    "for key, item in grouped_df:\n",
    "    a_group = grouped_df.get_group(key)\n",
    "    celltype = a_group['CellType'].values[0]\n",
    "    ND = a_group['ND'].values[0]\n",
    "    plate = a_group['Plate'].values[0]\n",
    "    field = a_group['field'].values[0]\n",
    "    \n",
    "    tot_cell = len(a_group.index)\n",
    "\n",
    "    pos_chan1 = a_group['Tuj1+ Matched'].count()\n",
    "    pos_chan2 = a_group['Pax6+'].sum()\n",
    "    double_pos = a_group['double_pos'].sum()\n",
    "    single_export = [key, celltype, ND, field, plate, tot_cell, pos_chan1, pos_chan1/tot_cell * 100, pos_chan2, pos_chan2/tot_cell * 100, double_pos, double_pos/pos_chan1 * 100]\n",
    "\n",
    "    result_export.append(single_export)"
   ]
  },
  {
   "cell_type": "code",
   "execution_count": null,
   "metadata": {},
   "outputs": [],
   "source": [
    "df_export = pd.DataFrame(result_export, columns = ['FileName', 'CellType', 'ND', 'Field', 'Plate', 'Total_Cell','Tuj1+' ,'Tuj1 Percent Positive', 'Pax6+', 'Pax6 Percent Positive', 'Double Positive', 'Double Positive Percent'])\n"
   ]
  },
  {
   "cell_type": "code",
   "execution_count": null,
   "metadata": {},
   "outputs": [],
   "source": [
    "df_export.to_csv('2024-03-08 Mary_Combined_Re-Thresholding/2d_crs_perfile_stats.csv', index = False)"
   ]
  },
  {
   "cell_type": "code",
   "execution_count": null,
   "metadata": {},
   "outputs": [],
   "source": [
    "sns.barplot(data = df_export, x = 'Plate', y = 'Tuj1 Percent Positive', hue = 'CellType')"
   ]
  },
  {
   "cell_type": "code",
   "execution_count": null,
   "metadata": {},
   "outputs": [],
   "source": [
    "sns.barplot(data = df_export, x = 'Plate', y = 'Double Positive Percent', hue = 'CellType')"
   ]
  },
  {
   "cell_type": "code",
   "execution_count": null,
   "metadata": {},
   "outputs": [],
   "source": []
  }
 ],
 "metadata": {
  "kernelspec": {
   "display_name": "Python 3",
   "language": "python",
   "name": "python3"
  },
  "language_info": {
   "codemirror_mode": {
    "name": "ipython",
    "version": 3
   },
   "file_extension": ".py",
   "mimetype": "text/x-python",
   "name": "python",
   "nbconvert_exporter": "python",
   "pygments_lexer": "ipython3",
   "version": "3.10.4"
  }
 },
 "nbformat": 4,
 "nbformat_minor": 2
}
